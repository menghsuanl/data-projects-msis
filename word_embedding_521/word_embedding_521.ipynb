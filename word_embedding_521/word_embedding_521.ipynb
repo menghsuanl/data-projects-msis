{
 "cells": [
  {
   "cell_type": "code",
   "execution_count": 1,
   "id": "6dad0e73",
   "metadata": {},
   "outputs": [
    {
     "name": "stderr",
     "output_type": "stream",
     "text": [
      "[nltk_data] Downloading package punkt to\n",
      "[nltk_data]     /Users/menghsuanlee/nltk_data...\n",
      "[nltk_data]   Package punkt is already up-to-date!\n",
      "[nltk_data] Downloading package wordnet to\n",
      "[nltk_data]     /Users/menghsuanlee/nltk_data...\n",
      "[nltk_data]   Package wordnet is already up-to-date!\n",
      "[nltk_data] Downloading package omw-1.4 to\n",
      "[nltk_data]     /Users/menghsuanlee/nltk_data...\n",
      "[nltk_data]   Package omw-1.4 is already up-to-date!\n",
      "[nltk_data] Downloading package stopwords to\n",
      "[nltk_data]     /Users/menghsuanlee/nltk_data...\n",
      "[nltk_data]   Package stopwords is already up-to-date!\n",
      "[nltk_data] Downloading package averaged_perceptron_tagger to\n",
      "[nltk_data]     /Users/menghsuanlee/nltk_data...\n",
      "[nltk_data]   Package averaged_perceptron_tagger is already up-to-\n",
      "[nltk_data]       date!\n"
     ]
    },
    {
     "data": {
      "text/plain": [
       "True"
      ]
     },
     "execution_count": 1,
     "metadata": {},
     "output_type": "execute_result"
    }
   ],
   "source": [
    "import nltk\n",
    "nltk.download('punkt') #tokenize\n",
    "nltk.download('wordnet') #lemmatize\n",
    "nltk.download('omw-1.4')\n",
    "nltk.download('stopwords')\n",
    "nltk.download('averaged_perceptron_tagger') #POS part of speech"
   ]
  },
  {
   "cell_type": "code",
   "execution_count": 2,
   "id": "760502e7",
   "metadata": {},
   "outputs": [],
   "source": [
    "d1 = \"He is a good guy, he is not bad\"\n",
    "d2 = \"feet wolves cooked boys girls, !<@!\"\n",
    "d3 = \"He is not a good guy, he is bad\"\n",
    "c1 = [d1, d2, d3]"
   ]
  },
  {
   "cell_type": "code",
   "execution_count": 3,
   "id": "65a2380a",
   "metadata": {},
   "outputs": [
    {
     "name": "stdout",
     "output_type": "stream",
     "text": [
      "['He', 'is', 'a', 'good', 'guy', ',', 'he', 'is', 'not', 'bad']\n"
     ]
    }
   ],
   "source": [
    "# tokenize option 1 , including comma in token\n",
    "token_d1 = nltk.word_tokenize(d1)\n",
    "print(token_d1)"
   ]
  },
  {
   "cell_type": "code",
   "execution_count": 4,
   "id": "bd981817",
   "metadata": {},
   "outputs": [
    {
     "name": "stdout",
     "output_type": "stream",
     "text": [
      "['He', 'is', 'a', 'good', 'guy,', 'he', 'is', 'not', 'bad']\n"
     ]
    }
   ],
   "source": [
    "# tokenize 2, use white space as a separater\n",
    "tokenizer1 = nltk.tokenize.WhitespaceTokenizer()\n",
    "token_d12 = tokenizer1.tokenize(d1)\n",
    "print(token_d12)"
   ]
  },
  {
   "cell_type": "markdown",
   "id": "97f5b2c7",
   "metadata": {},
   "source": [
    "## Bag of Words Vectorization"
   ]
  },
  {
   "cell_type": "code",
   "execution_count": 5,
   "id": "a94754e0",
   "metadata": {},
   "outputs": [],
   "source": [
    "from sklearn.feature_extraction.text import CountVectorizer"
   ]
  },
  {
   "cell_type": "code",
   "execution_count": 6,
   "id": "8c42eab9",
   "metadata": {},
   "outputs": [
    {
     "name": "stdout",
     "output_type": "stream",
     "text": [
      "{'he': 7, 'is': 8, 'good': 5, 'guy': 6, 'not': 9, 'bad': 0, 'feet': 3, 'wolves': 10, 'cooked': 2, 'boys': 1, 'girls': 4}\n"
     ]
    }
   ],
   "source": [
    "vec1 = CountVectorizer()\n",
    "vec1.fit(c1) # fit the entire corpus, not a single sentence\n",
    "print(vec1.vocabulary_) # show the index of words(alphabetically), not term frequency"
   ]
  },
  {
   "cell_type": "code",
   "execution_count": 7,
   "id": "fd11aa1a",
   "metadata": {},
   "outputs": [
    {
     "name": "stdout",
     "output_type": "stream",
     "text": [
      "[[1 0 0 0 0 1 1 2 2 1 0]\n",
      " [0 1 1 1 1 0 0 0 0 0 1]\n",
      " [1 0 0 0 0 1 1 2 2 1 0]]\n"
     ]
    }
   ],
   "source": [
    "v1 = vec1.transform(c1)\n",
    "print(v1.toarray())"
   ]
  },
  {
   "cell_type": "markdown",
   "id": "12bdff52",
   "metadata": {},
   "source": [
    "## Stemming"
   ]
  },
  {
   "cell_type": "code",
   "execution_count": 8,
   "id": "1e95beeb",
   "metadata": {},
   "outputs": [
    {
     "name": "stdout",
     "output_type": "stream",
     "text": [
      "['feet', 'wolv', 'cook', 'boy', 'girl']\n"
     ]
    }
   ],
   "source": [
    "token_d2 = nltk.word_tokenize(d2)\n",
    "stemmer = nltk.stem.PorterStemmer()\n",
    "stemmed_token_d2 = [stemmer.stem(token) for token in token_d2 if token.isalpha()] # apply stemmer on each token in d2\n",
    "print(stemmed_token_d2)"
   ]
  },
  {
   "cell_type": "code",
   "execution_count": 9,
   "id": "9da2426e",
   "metadata": {},
   "outputs": [
    {
     "name": "stdout",
     "output_type": "stream",
     "text": [
      "['foot', 'wolf', 'cooked', 'boy', 'girl']\n"
     ]
    }
   ],
   "source": [
    "lemmatizer = nltk.stem.WordNetLemmatizer()\n",
    "lemmedtized_token_d2 = []\n",
    "for token in token_d2:\n",
    "    if token.isalpha():\n",
    "        lemmedtized_token_d2.append(lemmatizer.lemmatize(token))\n",
    "print(lemmedtized_token_d2)"
   ]
  },
  {
   "cell_type": "markdown",
   "id": "3d80288c",
   "metadata": {},
   "source": [
    "## Stop words"
   ]
  },
  {
   "cell_type": "code",
   "execution_count": 10,
   "id": "2b8f40ca",
   "metadata": {},
   "outputs": [
    {
     "name": "stdout",
     "output_type": "stream",
     "text": [
      "['He', 'good', 'guy', ',', 'bad']\n"
     ]
    }
   ],
   "source": [
    "from nltk.corpus import stopwords\n",
    "# append token to list if the token is not a stopword\n",
    "stopwords_removed = [token for token in token_d1 if not token in stopwords.words('english')]\n",
    "print(stopwords_removed)"
   ]
  },
  {
   "cell_type": "markdown",
   "id": "7b6ae300",
   "metadata": {},
   "source": [
    "## Low Frequency Words Removing"
   ]
  },
  {
   "cell_type": "code",
   "execution_count": 11,
   "id": "a209bed8",
   "metadata": {},
   "outputs": [
    {
     "name": "stdout",
     "output_type": "stream",
     "text": [
      "{'he': 3, 'is': 4, 'good': 1, 'guy': 2, 'not': 5, 'bad': 0}\n"
     ]
    }
   ],
   "source": [
    "# keep words appears at least 2 times in the doc c1\n",
    "vec2 = CountVectorizer(min_df = 2)\n",
    "vec2.fit(c1)\n",
    "print(vec2.vocabulary_)"
   ]
  },
  {
   "cell_type": "code",
   "execution_count": 12,
   "id": "9d1bc083",
   "metadata": {},
   "outputs": [
    {
     "data": {
      "text/plain": [
       "['He is a good guy, he is not bad',\n",
       " 'feet wolves cooked boys girls, !<@!',\n",
       " 'He is not a good guy, he is bad']"
      ]
     },
     "execution_count": 12,
     "metadata": {},
     "output_type": "execute_result"
    }
   ],
   "source": [
    "c1"
   ]
  },
  {
   "cell_type": "markdown",
   "id": "0d80b531",
   "metadata": {},
   "source": [
    "## TF-IDF with n-gram"
   ]
  },
  {
   "cell_type": "code",
   "execution_count": 13,
   "id": "ffddaaf8",
   "metadata": {},
   "outputs": [
    {
     "name": "stdout",
     "output_type": "stream",
     "text": [
      "{'he': 5, 'is': 7, 'good': 1, 'guy': 3, 'not': 9, 'bad': 0, 'he is': 6, 'good guy': 2, 'guy he': 4, 'is not': 8}\n"
     ]
    }
   ],
   "source": [
    "from sklearn.feature_extraction.text import TfidfVectorizer\n",
    "vec3 = TfidfVectorizer(ngram_range = (1,2), min_df = 2 ) # single word & 2-grams\n",
    "vec3.fit(c1)\n",
    "print(vec3.vocabulary_)"
   ]
  },
  {
   "cell_type": "code",
   "execution_count": 14,
   "id": "ad799bd9",
   "metadata": {},
   "outputs": [
    {
     "name": "stdout",
     "output_type": "stream",
     "text": [
      "[[0.22941573 0.22941573 0.22941573 0.22941573 0.22941573 0.45883147\n",
      "  0.45883147 0.45883147 0.22941573 0.22941573]\n",
      " [0.         0.         0.         0.         0.         0.\n",
      "  0.         0.         0.         0.        ]\n",
      " [0.22941573 0.22941573 0.22941573 0.22941573 0.22941573 0.45883147\n",
      "  0.45883147 0.45883147 0.22941573 0.22941573]]\n"
     ]
    }
   ],
   "source": [
    "v3 = vec3.transform(c1)\n",
    "print(v3.toarray())"
   ]
  },
  {
   "cell_type": "markdown",
   "id": "7676755c",
   "metadata": {},
   "source": [
    "## Part-of-Speech(POS)"
   ]
  },
  {
   "cell_type": "code",
   "execution_count": 15,
   "id": "205fc535",
   "metadata": {},
   "outputs": [],
   "source": [
    "d4 = \"I drink water in parties\"\n",
    "d5 = \"I grab a drink in parties\"\n",
    "c2 = [d4, d5]"
   ]
  },
  {
   "cell_type": "code",
   "execution_count": 16,
   "id": "a040f276",
   "metadata": {},
   "outputs": [
    {
     "name": "stdout",
     "output_type": "stream",
     "text": [
      "[('I', 'PRP'), ('drink', 'VBP'), ('water', 'NN'), ('in', 'IN'), ('parties', 'NNS')]\n"
     ]
    }
   ],
   "source": [
    "# Steps:\n",
    "# 1.Tokenize\n",
    "# 2.POS tag\n",
    "# 3.Normalization, stemming, stopwords...\n",
    "# (have a list of tokens)\n",
    "# 4.Concat tokens and their POS tags back to the document(a string)\n",
    "# 5.Vectorizer\n",
    "\n",
    "token_d4 = nltk.word_tokenize(d4)\n",
    "pos_token_d4 = nltk.pos_tag(token_d4)\n",
    "print(pos_token_d4)\n",
    "# [('I', 'PRP'), ('drink', 'VBP'), ('water', 'NN'), ('in', 'IN'), ('parties', 'NNS')]\n",
    "\n"
   ]
  },
  {
   "cell_type": "code",
   "execution_count": 17,
   "id": "e23034f0",
   "metadata": {},
   "outputs": [
    {
     "name": "stdout",
     "output_type": "stream",
     "text": [
      "['I_PRP drink_VBP water_NN in_IN parties_NNS', 'I_PRP grab_VBP a_DT drink_NN in_IN parties_NNS']\n"
     ]
    }
   ],
   "source": [
    "# create 'I_PRP', 'drink_VBP', ...\n",
    "pos_c2 = [] # store the tagged doc\n",
    "for doc in c2:\n",
    "    token_doc = nltk.word_tokenize(doc)\n",
    "    pos_token_doc = nltk.pos_tag(token_doc)\n",
    "    temp = [] # store the token concat POS tag\n",
    "    for i in pos_token_doc:\n",
    "        temp.append(i[0]+'_'+i[1])\n",
    "    pos_c2.append(\" \".join(temp)) # turn into a doc, use space the separate\n",
    "print(pos_c2)    "
   ]
  },
  {
   "cell_type": "code",
   "execution_count": 18,
   "id": "1c36b7bd",
   "metadata": {},
   "outputs": [
    {
     "name": "stdout",
     "output_type": "stream",
     "text": [
      "{'i_prp': 4, 'drink_vbp': 2, 'water_nn': 7, 'in_in': 5, 'parties_nns': 6, 'grab_vbp': 3, 'a_dt': 0, 'drink_nn': 1}\n"
     ]
    }
   ],
   "source": [
    "vectorizer5 = TfidfVectorizer()\n",
    "vectorizer5.fit(pos_c2)\n",
    "print(vectorizer5.vocabulary_)"
   ]
  },
  {
   "cell_type": "markdown",
   "id": "c7ccd430",
   "metadata": {},
   "source": [
    "# Word2Vec"
   ]
  },
  {
   "cell_type": "code",
   "execution_count": 19,
   "id": "b5d7a92d",
   "metadata": {},
   "outputs": [
    {
     "name": "stdout",
     "output_type": "stream",
     "text": [
      "Requirement already satisfied: gensim in /Users/menghsuanlee/opt/anaconda3/lib/python3.9/site-packages (4.3.0)\n",
      "Requirement already satisfied: numpy>=1.18.5 in /Users/menghsuanlee/opt/anaconda3/lib/python3.9/site-packages (from gensim) (1.21.5)\n",
      "Requirement already satisfied: scipy>=1.7.0 in /Users/menghsuanlee/opt/anaconda3/lib/python3.9/site-packages (from gensim) (1.7.3)\n",
      "Requirement already satisfied: FuzzyTM>=0.4.0 in /Users/menghsuanlee/opt/anaconda3/lib/python3.9/site-packages (from gensim) (2.0.5)\n",
      "Requirement already satisfied: smart-open>=1.8.1 in /Users/menghsuanlee/opt/anaconda3/lib/python3.9/site-packages (from gensim) (6.3.0)\n",
      "Requirement already satisfied: pandas in /Users/menghsuanlee/opt/anaconda3/lib/python3.9/site-packages (from FuzzyTM>=0.4.0->gensim) (1.4.4)\n",
      "Requirement already satisfied: pyfume in /Users/menghsuanlee/opt/anaconda3/lib/python3.9/site-packages (from FuzzyTM>=0.4.0->gensim) (0.2.25)\n",
      "Requirement already satisfied: python-dateutil>=2.8.1 in /Users/menghsuanlee/opt/anaconda3/lib/python3.9/site-packages (from pandas->FuzzyTM>=0.4.0->gensim) (2.8.2)\n",
      "Requirement already satisfied: pytz>=2020.1 in /Users/menghsuanlee/opt/anaconda3/lib/python3.9/site-packages (from pandas->FuzzyTM>=0.4.0->gensim) (2022.7)\n",
      "Requirement already satisfied: simpful in /Users/menghsuanlee/opt/anaconda3/lib/python3.9/site-packages (from pyfume->FuzzyTM>=0.4.0->gensim) (2.9.0)\n",
      "Requirement already satisfied: fst-pso in /Users/menghsuanlee/opt/anaconda3/lib/python3.9/site-packages (from pyfume->FuzzyTM>=0.4.0->gensim) (1.8.1)\n",
      "Requirement already satisfied: six>=1.5 in /Users/menghsuanlee/opt/anaconda3/lib/python3.9/site-packages (from python-dateutil>=2.8.1->pandas->FuzzyTM>=0.4.0->gensim) (1.16.0)\n",
      "Requirement already satisfied: miniful in /Users/menghsuanlee/opt/anaconda3/lib/python3.9/site-packages (from fst-pso->pyfume->FuzzyTM>=0.4.0->gensim) (0.0.6)\n",
      "Requirement already satisfied: requests in /Users/menghsuanlee/opt/anaconda3/lib/python3.9/site-packages (from simpful->pyfume->FuzzyTM>=0.4.0->gensim) (2.28.1)\n",
      "Requirement already satisfied: urllib3<1.27,>=1.21.1 in /Users/menghsuanlee/opt/anaconda3/lib/python3.9/site-packages (from requests->simpful->pyfume->FuzzyTM>=0.4.0->gensim) (1.26.14)\n",
      "Requirement already satisfied: certifi>=2017.4.17 in /Users/menghsuanlee/opt/anaconda3/lib/python3.9/site-packages (from requests->simpful->pyfume->FuzzyTM>=0.4.0->gensim) (2022.12.7)\n",
      "Requirement already satisfied: charset-normalizer<3,>=2 in /Users/menghsuanlee/opt/anaconda3/lib/python3.9/site-packages (from requests->simpful->pyfume->FuzzyTM>=0.4.0->gensim) (2.0.4)\n",
      "Requirement already satisfied: idna<4,>=2.5 in /Users/menghsuanlee/opt/anaconda3/lib/python3.9/site-packages (from requests->simpful->pyfume->FuzzyTM>=0.4.0->gensim) (3.4)\n"
     ]
    }
   ],
   "source": [
    "!pip install gensim"
   ]
  },
  {
   "cell_type": "code",
   "execution_count": 20,
   "id": "b7af5207",
   "metadata": {},
   "outputs": [
    {
     "data": {
      "text/html": [
       "<div>\n",
       "<style scoped>\n",
       "    .dataframe tbody tr th:only-of-type {\n",
       "        vertical-align: middle;\n",
       "    }\n",
       "\n",
       "    .dataframe tbody tr th {\n",
       "        vertical-align: top;\n",
       "    }\n",
       "\n",
       "    .dataframe thead th {\n",
       "        text-align: right;\n",
       "    }\n",
       "</style>\n",
       "<table border=\"1\" class=\"dataframe\">\n",
       "  <thead>\n",
       "    <tr style=\"text-align: right;\">\n",
       "      <th></th>\n",
       "      <th>Tags</th>\n",
       "      <th>Author</th>\n",
       "    </tr>\n",
       "  </thead>\n",
       "  <tbody>\n",
       "    <tr>\n",
       "      <th>0</th>\n",
       "      <td>Albert Einstein,March,Germany,adulthood,succes...</td>\n",
       "      <td>Albert Einstein</td>\n",
       "    </tr>\n",
       "    <tr>\n",
       "      <th>1</th>\n",
       "      <td>Marilyn Monroe,June,The United States,be-yours...</td>\n",
       "      <td>Marilyn Monroe</td>\n",
       "    </tr>\n",
       "    <tr>\n",
       "      <th>2</th>\n",
       "      <td>J.K. Rowling,July,The United Kingdom,abilities...</td>\n",
       "      <td>J.K. Rowling</td>\n",
       "    </tr>\n",
       "    <tr>\n",
       "      <th>3</th>\n",
       "      <td>Albert Einstein,March,Germany,change,deep-thou...</td>\n",
       "      <td>Albert Einstein</td>\n",
       "    </tr>\n",
       "    <tr>\n",
       "      <th>4</th>\n",
       "      <td>Jane Austen,December,The United Kingdom,aliter...</td>\n",
       "      <td>Jane Austen</td>\n",
       "    </tr>\n",
       "  </tbody>\n",
       "</table>\n",
       "</div>"
      ],
      "text/plain": [
       "                                                Tags           Author\n",
       "0  Albert Einstein,March,Germany,adulthood,succes...  Albert Einstein\n",
       "1  Marilyn Monroe,June,The United States,be-yours...   Marilyn Monroe\n",
       "2  J.K. Rowling,July,The United Kingdom,abilities...     J.K. Rowling\n",
       "3  Albert Einstein,March,Germany,change,deep-thou...  Albert Einstein\n",
       "4  Jane Austen,December,The United Kingdom,aliter...      Jane Austen"
      ]
     },
     "execution_count": 20,
     "metadata": {},
     "output_type": "execute_result"
    }
   ],
   "source": [
    "import gensim\n",
    "import pandas as pd\n",
    "df = pd.read_csv('quotetags.csv')\n",
    "df.head()"
   ]
  },
  {
   "cell_type": "code",
   "execution_count": 21,
   "id": "0879be3a",
   "metadata": {},
   "outputs": [
    {
     "data": {
      "text/plain": [
       "[['Albert Einstein', 'March', 'Germany', 'adulthood', 'success', 'value'],\n",
       " ['Marilyn Monroe',\n",
       "  'June',\n",
       "  'The United States',\n",
       "  'be-yourself',\n",
       "  'inspirational'],\n",
       " ['J.K. Rowling', 'July', 'The United Kingdom', 'abilities', 'choices'],\n",
       " ['Albert Einstein',\n",
       "  'March',\n",
       "  'Germany',\n",
       "  'change',\n",
       "  'deep-thoughts',\n",
       "  'thinking',\n",
       "  'world'],\n",
       " ['Jane Austen',\n",
       "  'December',\n",
       "  'The United Kingdom',\n",
       "  'aliteracy',\n",
       "  'books',\n",
       "  'classic',\n",
       "  'humor'],\n",
       " ['Steve Martin', 'August', 'The United States', 'humor', 'obvious', 'simile'],\n",
       " ['Eleanor Roosevelt',\n",
       "  'October',\n",
       "  'The United States',\n",
       "  'misattributed-eleanor-roosevelt'],\n",
       " ['Albert Einstein',\n",
       "  'March',\n",
       "  'Germany',\n",
       "  'inspirational',\n",
       "  'life',\n",
       "  'live',\n",
       "  'miracle',\n",
       "  'miracles'],\n",
       " ['Andre Gide', 'November', 'France', 'life', 'love'],\n",
       " ['Thomas A. Edison',\n",
       "  'February',\n",
       "  'The United States',\n",
       "  'edison',\n",
       "  'failure',\n",
       "  'inspirational',\n",
       "  'paraphrased'],\n",
       " ['Allen Saunders',\n",
       "  'April',\n",
       "  'The United States',\n",
       "  'fate',\n",
       "  'life',\n",
       "  'misattributed-john-lennon',\n",
       "  'planning',\n",
       "  'plans'],\n",
       " ['Elie Wiesel',\n",
       "  'September',\n",
       "  'Romania',\n",
       "  'activism',\n",
       "  'apathy',\n",
       "  'hate',\n",
       "  'indifference',\n",
       "  'inspirational',\n",
       "  'love',\n",
       "  'opposite',\n",
       "  'philosophy'],\n",
       " ['Friedrich Nietzsche',\n",
       "  'October',\n",
       "  'Germany',\n",
       "  'friendship',\n",
       "  'lack-of-friendship',\n",
       "  'lack-of-love',\n",
       "  'love',\n",
       "  'marriage',\n",
       "  'unhappy-marriage'],\n",
       " ['Mark Twain',\n",
       "  'November',\n",
       "  'The United States',\n",
       "  'books',\n",
       "  'contentment',\n",
       "  'friends',\n",
       "  'friendship',\n",
       "  'life'],\n",
       " ['Douglas Adams', 'March', 'The United Kingdom', 'life', 'navigation'],\n",
       " ['Dr. Seuss', 'March', 'The United States', 'fantasy'],\n",
       " ['Bob Marley', 'February', 'Jamaica', 'love'],\n",
       " ['Marilyn Monroe',\n",
       "  'June',\n",
       "  'The United States',\n",
       "  'friends',\n",
       "  'heartbreak',\n",
       "  'inspirational',\n",
       "  'life',\n",
       "  'love',\n",
       "  'sisters'],\n",
       " ['Albert Einstein', 'March', 'Germany', 'simplicity', 'understand'],\n",
       " ['J.K. Rowling', 'July', 'The United Kingdom', 'courage', 'friends'],\n",
       " ['J.K. Rowling', 'July', 'The United Kingdom', 'nan'],\n",
       " ['Garrison Keillor', 'August', 'The United States', 'humor', 'religion'],\n",
       " ['Dr. Seuss', 'March', 'The United States', 'comedy', 'life', 'yourself'],\n",
       " ['Jim Henson', 'September', 'The United States', 'humor'],\n",
       " ['Bob Marley', 'February', 'Jamaica', 'music'],\n",
       " ['Albert Einstein', 'March', 'Germany', 'imagination'],\n",
       " ['Albert Einstein', 'March', 'Germany', 'children', 'fairy-tales'],\n",
       " ['Pablo Neruda', 'July', 'Chile', 'love', 'poetry'],\n",
       " ['Ralph Waldo Emerson', 'May', 'The United States', 'happiness'],\n",
       " ['Mother Teresa',\n",
       "  'August',\n",
       "  'the Former Yugoslav Republic of',\n",
       "  'attributed-no-source'],\n",
       " ['Jorge Luis Borges', 'August', 'Argentina', 'books', 'library'],\n",
       " ['Albert Einstein',\n",
       "  'March',\n",
       "  'Germany',\n",
       "  'knowledge',\n",
       "  'learning',\n",
       "  'understanding',\n",
       "  'wisdom'],\n",
       " ['George Eliot', 'November', 'The United Kingdom', 'inspirational'],\n",
       " ['William Nicholson',\n",
       "  'January',\n",
       "  'The United Kingdom',\n",
       "  'misattributed-to-c-s-lewis',\n",
       "  'reading'],\n",
       " ['Charles M. Schulz',\n",
       "  'November',\n",
       "  'The United States',\n",
       "  'chocolate',\n",
       "  'food',\n",
       "  'humor'],\n",
       " ['J.K. Rowling', 'July', 'The United Kingdom', 'death', 'inspirational'],\n",
       " ['J.K. Rowling', 'July', 'The United Kingdom', 'dumbledore'],\n",
       " ['Dr. Seuss', 'March', 'The United States', 'learning', 'reading', 'seuss'],\n",
       " ['Mother Teresa',\n",
       "  'August',\n",
       "  'the Former Yugoslav Republic of',\n",
       "  'misattributed-to-mother-teresa',\n",
       "  'paraphrased'],\n",
       " ['Bob Marley', 'February', 'Jamaica', 'friendship'],\n",
       " ['J.K. Rowling', 'July', 'The United Kingdom', 'dumbledore'],\n",
       " ['Marilyn Monroe', 'June', 'The United States', 'attributed-no-source'],\n",
       " ['James Baldwin', 'August', 'The United States', 'love'],\n",
       " ['Marilyn Monroe', 'June', 'The United States', 'girls', 'love'],\n",
       " ['Albert Einstein', 'March', 'Germany', 'life', 'simile'],\n",
       " ['Marilyn Monroe', 'June', 'The United States', 'love'],\n",
       " ['Martin Luther King Jr.',\n",
       "  'January',\n",
       "  'The United States',\n",
       "  'hope',\n",
       "  'inspirational'],\n",
       " ['Marilyn Monroe', 'June', 'The United States', 'nan'],\n",
       " ['George R.R. Martin',\n",
       "  'September',\n",
       "  'The United States',\n",
       "  'read',\n",
       "  'readers',\n",
       "  'reading',\n",
       "  'reading-books'],\n",
       " ['C.S. Lewis',\n",
       "  'November',\n",
       "  'Ireland',\n",
       "  'books',\n",
       "  'inspirational',\n",
       "  'reading',\n",
       "  'tea'],\n",
       " ['Stephenie Meyer',\n",
       "  'December',\n",
       "  'The United States',\n",
       "  'drug',\n",
       "  'romance',\n",
       "  'simile'],\n",
       " ['Helen Keller', 'June', 'The United States', 'inspirational'],\n",
       " ['Ernest Hemingway',\n",
       "  'July',\n",
       "  'The United States',\n",
       "  'books',\n",
       "  'friends',\n",
       "  'novelist-quotes'],\n",
       " ['George Bernard Shaw',\n",
       "  'July',\n",
       "  'Ireland',\n",
       "  'inspirational',\n",
       "  'life',\n",
       "  'yourself'],\n",
       " ['Alexandre Dumas fils', 'July', 'France', 'misattributed-to-einstein'],\n",
       " ['Haruki Murakami', 'January', 'Japan', 'books', 'thought'],\n",
       " ['Albert Einstein', 'March', 'Germany', 'music'],\n",
       " ['Jane Austen', 'December', 'The United Kingdom', 'friendship', 'love'],\n",
       " ['Marilyn Monroe', 'June', 'The United States', 'attributed-no-source'],\n",
       " ['Eleanor Roosevelt',\n",
       "  'October',\n",
       "  'The United States',\n",
       "  'attributed',\n",
       "  'fear',\n",
       "  'inspiration'],\n",
       " ['Dr. Seuss', 'March', 'The United States', 'troubles'],\n",
       " ['Mark Twain', 'November', 'The United States', 'education'],\n",
       " ['Ralph Waldo Emerson', 'May', 'The United States', 'life', 'regrets'],\n",
       " ['J.R.R. Tolkien',\n",
       "  'January',\n",
       "  'South Africa',\n",
       "  'bilbo',\n",
       "  'journey',\n",
       "  'lost',\n",
       "  'quest',\n",
       "  'travel',\n",
       "  'wander'],\n",
       " ['Ernest Hemingway', 'July', 'The United States', 'good', 'writing'],\n",
       " ['J.K. Rowling', 'July', 'The United Kingdom', 'live-death-love'],\n",
       " ['Charles Bukowski', 'August', 'Germany', 'alcohol'],\n",
       " ['Suzanne Collins', 'August', 'The United States', 'the-hunger-games'],\n",
       " ['Suzanne Collins', 'August', 'The United States', 'humor'],\n",
       " ['C.S. Lewis', 'November', 'Ireland', 'love'],\n",
       " ['W.C. Fields', 'January', 'The United States', 'humor', 'sinister'],\n",
       " ['Mark Twain',\n",
       "  'November',\n",
       "  'The United States',\n",
       "  'books',\n",
       "  'classic',\n",
       "  'reading'],\n",
       " ['Ayn Rand', 'February', 'Russian Federation', 'nan'],\n",
       " ['George Carlin',\n",
       "  'May',\n",
       "  'The United States',\n",
       "  'humor',\n",
       "  'insanity',\n",
       "  'lies',\n",
       "  'lying',\n",
       "  'self-indulgence',\n",
       "  'truth'],\n",
       " ['John Lennon',\n",
       "  'October',\n",
       "  'The United Kingdom',\n",
       "  'beatles',\n",
       "  'connection',\n",
       "  'dreamers',\n",
       "  'dreaming',\n",
       "  'dreams',\n",
       "  'hope',\n",
       "  'inspirational',\n",
       "  'peace'],\n",
       " ['Dr. Seuss', 'March', 'The United States', 'humor', 'philosophy'],\n",
       " ['J.D. Salinger',\n",
       "  'January',\n",
       "  'The United States',\n",
       "  'authors',\n",
       "  'books',\n",
       "  'literature',\n",
       "  'reading',\n",
       "  'writing'],\n",
       " ['Terry Pratchett',\n",
       "  'April',\n",
       "  'The United Kingdom',\n",
       "  'humor',\n",
       "  'open-mind',\n",
       "  'thinking'],\n",
       " ['Charles Bukowski', 'August', 'Germany', 'humor'],\n",
       " ['Alfred Tennyson', 'August', 'The United Kingdom', 'friendship', 'love'],\n",
       " ['C.S. Lewis',\n",
       "  'November',\n",
       "  'Ireland',\n",
       "  'christianity',\n",
       "  'faith',\n",
       "  'religion',\n",
       "  'sun'],\n",
       " ['Mark Twain',\n",
       "  'November',\n",
       "  'The United States',\n",
       "  'misattributed-mark-twain',\n",
       "  'truth'],\n",
       " ['Mark Twain', 'November', 'The United States', 'death', 'life'],\n",
       " ['C.S. Lewis', 'November', 'Ireland', 'god'],\n",
       " ['J.K. Rowling', 'July', 'The United Kingdom', 'integrity'],\n",
       " ['Albert Einstein', 'March', 'Germany', 'mistakes'],\n",
       " ['Jane Austen',\n",
       "  'December',\n",
       "  'The United Kingdom',\n",
       "  'books',\n",
       "  'library',\n",
       "  'reading'],\n",
       " ['Jane Austen',\n",
       "  'December',\n",
       "  'The United Kingdom',\n",
       "  'elizabeth-bennet',\n",
       "  'jane-austen'],\n",
       " ['C.S. Lewis', 'November', 'Ireland', 'age', 'fairytales', 'growing-up'],\n",
       " ['Jane Austen',\n",
       "  'December',\n",
       "  'The United Kingdom',\n",
       "  'humor',\n",
       "  'love',\n",
       "  'romantic',\n",
       "  'women'],\n",
       " ['George R.R. Martin', 'September', 'The United States', 'books', 'mind'],\n",
       " [\"Madeleine L'Engle\",\n",
       "  'November',\n",
       "  'The United States',\n",
       "  'books',\n",
       "  'children',\n",
       "  'difficult',\n",
       "  'grown-ups',\n",
       "  'write',\n",
       "  'writers',\n",
       "  'writing'],\n",
       " ['Dr. Seuss', 'March', 'The United States', 'inspirational'],\n",
       " ['Mark Twain', 'November', 'The United States', 'truth'],\n",
       " ['E.E. Cummings', 'October', 'The United States', 'courage'],\n",
       " ['Harper Lee', 'April', 'The United States', 'better-life-empathy'],\n",
       " ['Khaled Hosseini', 'March', 'Afghanistan', 'life'],\n",
       " ['J.M. Barrie', 'May', 'The United Kingdom', 'adventure', 'love'],\n",
       " ['Jimi Hendrix', 'November', 'The United States', 'death', 'life'],\n",
       " ['J.K. Rowling', 'July', 'The United Kingdom', 'truth']]"
      ]
     },
     "execution_count": 21,
     "metadata": {},
     "output_type": "execute_result"
    }
   ],
   "source": [
    "tags = [row.split(\",\") for row in df['Tags']]\n",
    "tags"
   ]
  },
  {
   "cell_type": "code",
   "execution_count": 23,
   "id": "488383e7",
   "metadata": {},
   "outputs": [],
   "source": [
    "# min_count: word appearance >= 1, vector_size: nerons in the hidden layer, workers: cores to compute\n",
    "# window: n-gram window size, sg: use skip-gram\n",
    "model = gensim.models.Word2Vec(tags, min_count=1, vector_size=20, workers=3, window=3, sg=1)"
   ]
  },
  {
   "cell_type": "code",
   "execution_count": 24,
   "id": "74561214",
   "metadata": {},
   "outputs": [
    {
     "data": {
      "text/plain": [
       "array([-0.02776789,  0.00836551, -0.00406576,  0.03451859,  0.01988194,\n",
       "        0.02259276,  0.0071109 , -0.01345244, -0.02218077, -0.00485056,\n",
       "        0.00776846, -0.01369683, -0.03530609, -0.03932138, -0.0453657 ,\n",
       "       -0.02985048, -0.00880505, -0.02126941, -0.03225451, -0.0193428 ],\n",
       "      dtype=float32)"
      ]
     },
     "execution_count": 24,
     "metadata": {},
     "output_type": "execute_result"
    }
   ],
   "source": [
    "model.wv.__getitem__('Albert Einstein')"
   ]
  },
  {
   "cell_type": "code",
   "execution_count": 25,
   "id": "dbb15ed2",
   "metadata": {},
   "outputs": [
    {
     "data": {
      "text/plain": [
       "0.009445123"
      ]
     },
     "execution_count": 25,
     "metadata": {},
     "output_type": "execute_result"
    }
   ],
   "source": [
    "model.wv.similarity('Albert Einstein', 'Marilyn Monroe')"
   ]
  },
  {
   "cell_type": "code",
   "execution_count": 26,
   "id": "75c29e4e",
   "metadata": {},
   "outputs": [
    {
     "data": {
      "text/plain": [
       "[('understanding', 0.4898354411125183),\n",
       " ('alcohol', 0.4558295011520386),\n",
       " ('April', 0.4352729916572571),\n",
       " ('adventure', 0.42612791061401367),\n",
       " ('marriage', 0.41895952820777893),\n",
       " ('Jane Austen', 0.41076746582984924),\n",
       " ('beatles', 0.4019605815410614),\n",
       " ('George Carlin', 0.3688918650150299),\n",
       " ('world', 0.3586214780807495),\n",
       " ('Ireland', 0.35614296793937683)]"
      ]
     },
     "execution_count": 26,
     "metadata": {},
     "output_type": "execute_result"
    }
   ],
   "source": [
    "model.wv.most_similar('Albert Einstein')"
   ]
  },
  {
   "cell_type": "code",
   "execution_count": 27,
   "id": "826712b1",
   "metadata": {},
   "outputs": [],
   "source": [
    "## TSNE plot\n",
    "# t-distributed stochastic neigborhood embedding\n",
    "from sklearn.manifold import TSNE\n",
    "\n",
    "authors = df['Author'].unique().tolist()\n",
    "X = model.wv.__getitem__(authors)"
   ]
  },
  {
   "cell_type": "code",
   "execution_count": 28,
   "id": "8a9f5068",
   "metadata": {},
   "outputs": [],
   "source": [
    "# transform originally 20 dimensions to 2 dims in order to plot\n",
    "tsne_model = TSNE(perplexity=5, n_components=2, init='pca', n_iter=1000, random_state=100)\n",
    "Y = tsne_model.fit_transform(X)"
   ]
  },
  {
   "cell_type": "code",
   "execution_count": 29,
   "id": "73e4bf25",
   "metadata": {},
   "outputs": [
    {
     "data": {
      "image/png": "[encoded data removed]",
      "text/plain": [
       "<Figure size 1000x1000 with 1 Axes>"
      ]
     },
     "metadata": {},
     "output_type": "display_data"
    }
   ],
   "source": [
    "import matplotlib.pyplot as plt\n",
    "fig, ax = plt.subplots(figsize=(10,10))\n",
    "ax.scatter(Y[:,0], Y[:,1])\n",
    "\n",
    "for i, author in enumerate(authors): #enumerate can create index\n",
    "    plt.annotate(author, xy=(Y[i,0], Y[i,1]))"
   ]
  }
 ],
 "metadata": {
  "kernelspec": {
   "display_name": "Python 3 (ipykernel)",
   "language": "python",
   "name": "python3"
  },
  "language_info": {
   "codemirror_mode": {
    "name": "ipython",
    "version": 3
   },
   "file_extension": ".py",
   "mimetype": "text/x-python",
   "name": "python",
   "nbconvert_exporter": "python",
   "pygments_lexer": "ipython3",
   "version": "3.9.7"
  }
 },
 "nbformat": 4,
 "nbformat_minor": 5
}
