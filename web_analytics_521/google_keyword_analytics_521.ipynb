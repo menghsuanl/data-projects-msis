{
 "cells": [
  {
   "cell_type": "code",
   "execution_count": 2,
   "id": "7ddacf92",
   "metadata": {},
   "outputs": [],
   "source": [
    "import pandas as pd\n",
    "visitors = pd.read_csv('tourists.csv')\n",
    "gtrends = pd.read_csv('gtrends.csv')"
   ]
  },
  {
   "cell_type": "code",
   "execution_count": 4,
   "id": "15f657f2",
   "metadata": {},
   "outputs": [
    {
     "data": {
      "text/html": [
       "<div>\n",
       "<style scoped>\n",
       "    .dataframe tbody tr th:only-of-type {\n",
       "        vertical-align: middle;\n",
       "    }\n",
       "\n",
       "    .dataframe tbody tr th {\n",
       "        vertical-align: top;\n",
       "    }\n",
       "\n",
       "    .dataframe thead th {\n",
       "        text-align: right;\n",
       "    }\n",
       "</style>\n",
       "<table border=\"1\" class=\"dataframe\">\n",
       "  <thead>\n",
       "    <tr style=\"text-align: right;\">\n",
       "      <th></th>\n",
       "      <th>Month</th>\n",
       "      <th>Flights to Hong Kong</th>\n",
       "    </tr>\n",
       "  </thead>\n",
       "  <tbody>\n",
       "    <tr>\n",
       "      <th>0</th>\n",
       "      <td>2007-01</td>\n",
       "      <td>14</td>\n",
       "    </tr>\n",
       "    <tr>\n",
       "      <th>1</th>\n",
       "      <td>2007-02</td>\n",
       "      <td>14</td>\n",
       "    </tr>\n",
       "    <tr>\n",
       "      <th>2</th>\n",
       "      <td>2007-03</td>\n",
       "      <td>26</td>\n",
       "    </tr>\n",
       "    <tr>\n",
       "      <th>3</th>\n",
       "      <td>2007-04</td>\n",
       "      <td>26</td>\n",
       "    </tr>\n",
       "    <tr>\n",
       "      <th>4</th>\n",
       "      <td>2007-05</td>\n",
       "      <td>12</td>\n",
       "    </tr>\n",
       "  </tbody>\n",
       "</table>\n",
       "</div>"
      ],
      "text/plain": [
       "     Month  Flights to Hong Kong\n",
       "0  2007-01                    14\n",
       "1  2007-02                    14\n",
       "2  2007-03                    26\n",
       "3  2007-04                    26\n",
       "4  2007-05                    12"
      ]
     },
     "execution_count": 4,
     "metadata": {},
     "output_type": "execute_result"
    }
   ],
   "source": [
    "gtrends.head()"
   ]
  },
  {
   "cell_type": "code",
   "execution_count": 6,
   "id": "fe4d9afd",
   "metadata": {},
   "outputs": [
    {
     "data": {
      "text/html": [
       "<div>\n",
       "<style scoped>\n",
       "    .dataframe tbody tr th:only-of-type {\n",
       "        vertical-align: middle;\n",
       "    }\n",
       "\n",
       "    .dataframe tbody tr th {\n",
       "        vertical-align: top;\n",
       "    }\n",
       "\n",
       "    .dataframe thead th {\n",
       "        text-align: right;\n",
       "    }\n",
       "</style>\n",
       "<table border=\"1\" class=\"dataframe\">\n",
       "  <thead>\n",
       "    <tr style=\"text-align: right;\">\n",
       "      <th></th>\n",
       "      <th>Time</th>\n",
       "      <th>Visitors</th>\n",
       "      <th>Visitors_lag_1</th>\n",
       "      <th>Visitors_lag_12</th>\n",
       "    </tr>\n",
       "  </thead>\n",
       "  <tbody>\n",
       "    <tr>\n",
       "      <th>0</th>\n",
       "      <td>1/1/2007</td>\n",
       "      <td>93897</td>\n",
       "      <td>NaN</td>\n",
       "      <td>NaN</td>\n",
       "    </tr>\n",
       "    <tr>\n",
       "      <th>1</th>\n",
       "      <td>2/1/2007</td>\n",
       "      <td>68538</td>\n",
       "      <td>93897.0</td>\n",
       "      <td>NaN</td>\n",
       "    </tr>\n",
       "    <tr>\n",
       "      <th>2</th>\n",
       "      <td>3/1/2007</td>\n",
       "      <td>115014</td>\n",
       "      <td>68538.0</td>\n",
       "      <td>NaN</td>\n",
       "    </tr>\n",
       "    <tr>\n",
       "      <th>3</th>\n",
       "      <td>4/1/2007</td>\n",
       "      <td>111047</td>\n",
       "      <td>115014.0</td>\n",
       "      <td>NaN</td>\n",
       "    </tr>\n",
       "    <tr>\n",
       "      <th>4</th>\n",
       "      <td>5/1/2007</td>\n",
       "      <td>96659</td>\n",
       "      <td>111047.0</td>\n",
       "      <td>NaN</td>\n",
       "    </tr>\n",
       "  </tbody>\n",
       "</table>\n",
       "</div>"
      ],
      "text/plain": [
       "       Time  Visitors  Visitors_lag_1  Visitors_lag_12\n",
       "0  1/1/2007     93897             NaN              NaN\n",
       "1  2/1/2007     68538         93897.0              NaN\n",
       "2  3/1/2007    115014         68538.0              NaN\n",
       "3  4/1/2007    111047        115014.0              NaN\n",
       "4  5/1/2007     96659        111047.0              NaN"
      ]
     },
     "execution_count": 6,
     "metadata": {},
     "output_type": "execute_result"
    }
   ],
   "source": [
    "# predictors\n",
    "visitors['Visitors_lag_1'] = visitors['Visitors'].shift(1) # autoregressive lag 1M\n",
    "visitors['Visitors_lag_12'] = visitors['Visitors'].shift(12) # seasonal adjustment\n",
    "visitors.head()"
   ]
  },
  {
   "cell_type": "code",
   "execution_count": 7,
   "id": "f2d1f50b",
   "metadata": {},
   "outputs": [],
   "source": [
    "df = pd.concat([visitors, gtrends['Flights to Hong Kong'].shift(1)], axis=1)"
   ]
  },
  {
   "cell_type": "code",
   "execution_count": 8,
   "id": "2b9edeed",
   "metadata": {},
   "outputs": [
    {
     "data": {
      "text/html": [
       "<div>\n",
       "<style scoped>\n",
       "    .dataframe tbody tr th:only-of-type {\n",
       "        vertical-align: middle;\n",
       "    }\n",
       "\n",
       "    .dataframe tbody tr th {\n",
       "        vertical-align: top;\n",
       "    }\n",
       "\n",
       "    .dataframe thead th {\n",
       "        text-align: right;\n",
       "    }\n",
       "</style>\n",
       "<table border=\"1\" class=\"dataframe\">\n",
       "  <thead>\n",
       "    <tr style=\"text-align: right;\">\n",
       "      <th></th>\n",
       "      <th>Time</th>\n",
       "      <th>Visitors</th>\n",
       "      <th>Visitors_lag_1</th>\n",
       "      <th>Visitors_lag_12</th>\n",
       "      <th>Flights to Hong Kong</th>\n",
       "    </tr>\n",
       "  </thead>\n",
       "  <tbody>\n",
       "    <tr>\n",
       "      <th>0</th>\n",
       "      <td>1/1/2007</td>\n",
       "      <td>93897</td>\n",
       "      <td>NaN</td>\n",
       "      <td>NaN</td>\n",
       "      <td>NaN</td>\n",
       "    </tr>\n",
       "    <tr>\n",
       "      <th>1</th>\n",
       "      <td>2/1/2007</td>\n",
       "      <td>68538</td>\n",
       "      <td>93897.0</td>\n",
       "      <td>NaN</td>\n",
       "      <td>14.0</td>\n",
       "    </tr>\n",
       "    <tr>\n",
       "      <th>2</th>\n",
       "      <td>3/1/2007</td>\n",
       "      <td>115014</td>\n",
       "      <td>68538.0</td>\n",
       "      <td>NaN</td>\n",
       "      <td>14.0</td>\n",
       "    </tr>\n",
       "    <tr>\n",
       "      <th>3</th>\n",
       "      <td>4/1/2007</td>\n",
       "      <td>111047</td>\n",
       "      <td>115014.0</td>\n",
       "      <td>NaN</td>\n",
       "      <td>26.0</td>\n",
       "    </tr>\n",
       "    <tr>\n",
       "      <th>4</th>\n",
       "      <td>5/1/2007</td>\n",
       "      <td>96659</td>\n",
       "      <td>111047.0</td>\n",
       "      <td>NaN</td>\n",
       "      <td>26.0</td>\n",
       "    </tr>\n",
       "    <tr>\n",
       "      <th>...</th>\n",
       "      <td>...</td>\n",
       "      <td>...</td>\n",
       "      <td>...</td>\n",
       "      <td>...</td>\n",
       "      <td>...</td>\n",
       "    </tr>\n",
       "    <tr>\n",
       "      <th>126</th>\n",
       "      <td>7/1/2017</td>\n",
       "      <td>98731</td>\n",
       "      <td>105460.0</td>\n",
       "      <td>93153.0</td>\n",
       "      <td>93.0</td>\n",
       "    </tr>\n",
       "    <tr>\n",
       "      <th>127</th>\n",
       "      <td>8/1/2017</td>\n",
       "      <td>82604</td>\n",
       "      <td>98731.0</td>\n",
       "      <td>81982.0</td>\n",
       "      <td>67.0</td>\n",
       "    </tr>\n",
       "    <tr>\n",
       "      <th>128</th>\n",
       "      <td>9/1/2017</td>\n",
       "      <td>85766</td>\n",
       "      <td>82604.0</td>\n",
       "      <td>93313.0</td>\n",
       "      <td>74.0</td>\n",
       "    </tr>\n",
       "    <tr>\n",
       "      <th>129</th>\n",
       "      <td>10/1/2017</td>\n",
       "      <td>109357</td>\n",
       "      <td>85766.0</td>\n",
       "      <td>115961.0</td>\n",
       "      <td>75.0</td>\n",
       "    </tr>\n",
       "    <tr>\n",
       "      <th>130</th>\n",
       "      <td>11/1/2017</td>\n",
       "      <td>121179</td>\n",
       "      <td>109357.0</td>\n",
       "      <td>123254.0</td>\n",
       "      <td>60.0</td>\n",
       "    </tr>\n",
       "  </tbody>\n",
       "</table>\n",
       "<p>131 rows × 5 columns</p>\n",
       "</div>"
      ],
      "text/plain": [
       "          Time  Visitors  Visitors_lag_1  Visitors_lag_12  \\\n",
       "0     1/1/2007     93897             NaN              NaN   \n",
       "1     2/1/2007     68538         93897.0              NaN   \n",
       "2     3/1/2007    115014         68538.0              NaN   \n",
       "3     4/1/2007    111047        115014.0              NaN   \n",
       "4     5/1/2007     96659        111047.0              NaN   \n",
       "..         ...       ...             ...              ...   \n",
       "126   7/1/2017     98731        105460.0          93153.0   \n",
       "127   8/1/2017     82604         98731.0          81982.0   \n",
       "128   9/1/2017     85766         82604.0          93313.0   \n",
       "129  10/1/2017    109357         85766.0         115961.0   \n",
       "130  11/1/2017    121179        109357.0         123254.0   \n",
       "\n",
       "     Flights to Hong Kong  \n",
       "0                     NaN  \n",
       "1                    14.0  \n",
       "2                    14.0  \n",
       "3                    26.0  \n",
       "4                    26.0  \n",
       "..                    ...  \n",
       "126                  93.0  \n",
       "127                  67.0  \n",
       "128                  74.0  \n",
       "129                  75.0  \n",
       "130                  60.0  \n",
       "\n",
       "[131 rows x 5 columns]"
      ]
     },
     "execution_count": 8,
     "metadata": {},
     "output_type": "execute_result"
    }
   ],
   "source": [
    "df"
   ]
  },
  {
   "cell_type": "code",
   "execution_count": 14,
   "id": "6c42806c",
   "metadata": {},
   "outputs": [],
   "source": [
    "y = df['Visitors'][12:]\n",
    "x = df.drop(['Time', 'Visitors'], axis=1)[12:]"
   ]
  },
  {
   "cell_type": "code",
   "execution_count": 15,
   "id": "c2ffcebe",
   "metadata": {},
   "outputs": [
    {
     "data": {
      "text/plain": [
       "12     104025\n",
       "13      75997\n",
       "14     118278\n",
       "15     112075\n",
       "16      95670\n",
       "        ...  \n",
       "126     98731\n",
       "127     82604\n",
       "128     85766\n",
       "129    109357\n",
       "130    121179\n",
       "Name: Visitors, Length: 119, dtype: int64"
      ]
     },
     "execution_count": 15,
     "metadata": {},
     "output_type": "execute_result"
    }
   ],
   "source": [
    "y"
   ]
  },
  {
   "cell_type": "code",
   "execution_count": 16,
   "id": "4369d4c5",
   "metadata": {},
   "outputs": [],
   "source": [
    "# train set: keep data from 2007 - 2016\n",
    "x_t = x[:-11]\n",
    "y_t = y[:-11]\n",
    "\n",
    "# validation set: 2017\n",
    "x_v = x[-11:]\n",
    "y_v = y[-11:]"
   ]
  },
  {
   "cell_type": "code",
   "execution_count": 18,
   "id": "3d3ad284",
   "metadata": {},
   "outputs": [
    {
     "data": {
      "text/plain": [
       "[0.12745533775184467, 0.7870243816440682, 71.68093328258574]"
      ]
     },
     "execution_count": 18,
     "metadata": {},
     "output_type": "execute_result"
    }
   ],
   "source": [
    "from sklearn.linear_model import LinearRegression\n",
    "\n",
    "model = LinearRegression().fit(x_t, y_t)\n",
    "model.coef_.tolist()"
   ]
  },
  {
   "cell_type": "code",
   "execution_count": 21,
   "id": "eb0dfced",
   "metadata": {},
   "outputs": [
    {
     "data": {
      "text/plain": [
       "4508.535731184296"
      ]
     },
     "execution_count": 21,
     "metadata": {},
     "output_type": "execute_result"
    }
   ],
   "source": [
    "model.intercept_"
   ]
  },
  {
   "cell_type": "markdown",
   "id": "3545b3d0",
   "metadata": {},
   "source": [
    "Y(t) = 4508.535731184296 + Y(t-1)*0.12745533775184467 + Y(t-12)*0.7870243816440682 + GT*71.68093328258574"
   ]
  },
  {
   "cell_type": "code",
   "execution_count": 22,
   "id": "18f48390",
   "metadata": {},
   "outputs": [],
   "source": [
    "y_t_pred = model.predict(x_t)"
   ]
  },
  {
   "cell_type": "raw",
   "id": "96f4ede9",
   "metadata": {},
   "source": [
    "R-squared"
   ]
  },
  {
   "cell_type": "code",
   "execution_count": 23,
   "id": "4ff64eba",
   "metadata": {},
   "outputs": [
    {
     "data": {
      "text/plain": [
       "0.6626057152113144"
      ]
     },
     "execution_count": 23,
     "metadata": {},
     "output_type": "execute_result"
    }
   ],
   "source": [
    "from sklearn.metrics import r2_score\n",
    "r2_score(y_t, y_t_pred)"
   ]
  }
 ],
 "metadata": {
  "kernelspec": {
   "display_name": "Python 3 (ipykernel)",
   "language": "python",
   "name": "python3"
  },
  "language_info": {
   "codemirror_mode": {
    "name": "ipython",
    "version": 3
   },
   "file_extension": ".py",
   "mimetype": "text/x-python",
   "name": "python",
   "nbconvert_exporter": "python",
   "pygments_lexer": "ipython3",
   "version": "3.9.7"
  }
 },
 "nbformat": 4,
 "nbformat_minor": 5
}
