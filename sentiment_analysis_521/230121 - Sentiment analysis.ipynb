{
 "cells": [
  {
   "cell_type": "code",
   "execution_count": 1,
   "id": "41d5fbeb",
   "metadata": {},
   "outputs": [],
   "source": [
    "import pandas as pd\n",
    "import numpy as np"
   ]
  },
  {
   "cell_type": "code",
   "execution_count": 2,
   "id": "199620ee",
   "metadata": {},
   "outputs": [],
   "source": [
    "df = pd.read_csv('price_review.csv')"
   ]
  },
  {
   "cell_type": "code",
   "execution_count": 3,
   "id": "40315779",
   "metadata": {},
   "outputs": [
    {
     "data": {
      "text/html": [
       "<div>\n",
       "<style scoped>\n",
       "    .dataframe tbody tr th:only-of-type {\n",
       "        vertical-align: middle;\n",
       "    }\n",
       "\n",
       "    .dataframe tbody tr th {\n",
       "        vertical-align: top;\n",
       "    }\n",
       "\n",
       "    .dataframe thead th {\n",
       "        text-align: right;\n",
       "    }\n",
       "</style>\n",
       "<table border=\"1\" class=\"dataframe\">\n",
       "  <thead>\n",
       "    <tr style=\"text-align: right;\">\n",
       "      <th></th>\n",
       "      <th>Seller_ID</th>\n",
       "      <th>Poor communication</th>\n",
       "      <th>Good Communication</th>\n",
       "      <th>Excellent Communication</th>\n",
       "      <th>Late Delivery</th>\n",
       "      <th>Fast Delivery</th>\n",
       "      <th>Quick Delivery</th>\n",
       "      <th>Very Late Delivery</th>\n",
       "      <th>Poor Condition</th>\n",
       "      <th>good condition</th>\n",
       "      <th>excellent condition</th>\n",
       "      <th>Bad packaging</th>\n",
       "      <th>Good Packaging</th>\n",
       "      <th>Poor Service</th>\n",
       "      <th>nice service</th>\n",
       "      <th>good service</th>\n",
       "      <th>excellent service</th>\n",
       "      <th>Price Premium</th>\n",
       "    </tr>\n",
       "  </thead>\n",
       "  <tbody>\n",
       "    <tr>\n",
       "      <th>0</th>\n",
       "      <td>1</td>\n",
       "      <td>6</td>\n",
       "      <td>24</td>\n",
       "      <td>100</td>\n",
       "      <td>5</td>\n",
       "      <td>92</td>\n",
       "      <td>33</td>\n",
       "      <td>4</td>\n",
       "      <td>4</td>\n",
       "      <td>359</td>\n",
       "      <td>65</td>\n",
       "      <td>8</td>\n",
       "      <td>52</td>\n",
       "      <td>3</td>\n",
       "      <td>6</td>\n",
       "      <td>39</td>\n",
       "      <td>43</td>\n",
       "      <td>6</td>\n",
       "    </tr>\n",
       "    <tr>\n",
       "      <th>1</th>\n",
       "      <td>2</td>\n",
       "      <td>6</td>\n",
       "      <td>12</td>\n",
       "      <td>106</td>\n",
       "      <td>7</td>\n",
       "      <td>80</td>\n",
       "      <td>23</td>\n",
       "      <td>8</td>\n",
       "      <td>0</td>\n",
       "      <td>295</td>\n",
       "      <td>114</td>\n",
       "      <td>12</td>\n",
       "      <td>74</td>\n",
       "      <td>8</td>\n",
       "      <td>22</td>\n",
       "      <td>25</td>\n",
       "      <td>53</td>\n",
       "      <td>16</td>\n",
       "    </tr>\n",
       "    <tr>\n",
       "      <th>2</th>\n",
       "      <td>3</td>\n",
       "      <td>3</td>\n",
       "      <td>7</td>\n",
       "      <td>83</td>\n",
       "      <td>4</td>\n",
       "      <td>108</td>\n",
       "      <td>8</td>\n",
       "      <td>0</td>\n",
       "      <td>6</td>\n",
       "      <td>346</td>\n",
       "      <td>31</td>\n",
       "      <td>0</td>\n",
       "      <td>62</td>\n",
       "      <td>4</td>\n",
       "      <td>20</td>\n",
       "      <td>21</td>\n",
       "      <td>53</td>\n",
       "      <td>19</td>\n",
       "    </tr>\n",
       "    <tr>\n",
       "      <th>3</th>\n",
       "      <td>4</td>\n",
       "      <td>6</td>\n",
       "      <td>23</td>\n",
       "      <td>175</td>\n",
       "      <td>4</td>\n",
       "      <td>123</td>\n",
       "      <td>36</td>\n",
       "      <td>7</td>\n",
       "      <td>13</td>\n",
       "      <td>425</td>\n",
       "      <td>100</td>\n",
       "      <td>3</td>\n",
       "      <td>55</td>\n",
       "      <td>2</td>\n",
       "      <td>30</td>\n",
       "      <td>17</td>\n",
       "      <td>56</td>\n",
       "      <td>10</td>\n",
       "    </tr>\n",
       "    <tr>\n",
       "      <th>4</th>\n",
       "      <td>5</td>\n",
       "      <td>3</td>\n",
       "      <td>16</td>\n",
       "      <td>129</td>\n",
       "      <td>1</td>\n",
       "      <td>75</td>\n",
       "      <td>17</td>\n",
       "      <td>0</td>\n",
       "      <td>0</td>\n",
       "      <td>257</td>\n",
       "      <td>67</td>\n",
       "      <td>1</td>\n",
       "      <td>43</td>\n",
       "      <td>4</td>\n",
       "      <td>1</td>\n",
       "      <td>42</td>\n",
       "      <td>77</td>\n",
       "      <td>93</td>\n",
       "    </tr>\n",
       "  </tbody>\n",
       "</table>\n",
       "</div>"
      ],
      "text/plain": [
       "   Seller_ID  Poor communication  Good Communication  Excellent Communication  \\\n",
       "0          1                   6                  24                      100   \n",
       "1          2                   6                  12                      106   \n",
       "2          3                   3                   7                       83   \n",
       "3          4                   6                  23                      175   \n",
       "4          5                   3                  16                      129   \n",
       "\n",
       "   Late Delivery  Fast Delivery  Quick Delivery  Very Late Delivery  \\\n",
       "0              5             92              33                   4   \n",
       "1              7             80              23                   8   \n",
       "2              4            108               8                   0   \n",
       "3              4            123              36                   7   \n",
       "4              1             75              17                   0   \n",
       "\n",
       "   Poor Condition  good condition  excellent condition  Bad packaging  \\\n",
       "0               4             359                   65              8   \n",
       "1               0             295                  114             12   \n",
       "2               6             346                   31              0   \n",
       "3              13             425                  100              3   \n",
       "4               0             257                   67              1   \n",
       "\n",
       "   Good Packaging  Poor Service  nice service  good service  \\\n",
       "0              52             3             6            39   \n",
       "1              74             8            22            25   \n",
       "2              62             4            20            21   \n",
       "3              55             2            30            17   \n",
       "4              43             4             1            42   \n",
       "\n",
       "   excellent service  Price Premium  \n",
       "0                 43              6  \n",
       "1                 53             16  \n",
       "2                 53             19  \n",
       "3                 56             10  \n",
       "4                 77             93  "
      ]
     },
     "execution_count": 3,
     "metadata": {},
     "output_type": "execute_result"
    }
   ],
   "source": [
    "df.head()"
   ]
  },
  {
   "cell_type": "code",
   "execution_count": 4,
   "id": "25a8d950",
   "metadata": {},
   "outputs": [
    {
     "data": {
      "text/plain": [
       "Index(['Poor communication', 'Good Communication', 'Excellent Communication',\n",
       "       'Late Delivery', 'Fast Delivery', 'Quick Delivery',\n",
       "       'Very Late Delivery', 'Poor Condition', 'good condition',\n",
       "       'excellent condition', 'Bad packaging', 'Good Packaging',\n",
       "       'Poor Service', 'nice service', 'good service', 'excellent service'],\n",
       "      dtype='object')"
      ]
     },
     "execution_count": 4,
     "metadata": {},
     "output_type": "execute_result"
    }
   ],
   "source": [
    "y = df['Price Premium']\n",
    "x = df.drop(['Seller_ID', 'Price Premium' ], axis=1)\n",
    "x.columns"
   ]
  },
  {
   "cell_type": "code",
   "execution_count": 5,
   "id": "682c1656",
   "metadata": {},
   "outputs": [],
   "source": [
    "from sklearn.linear_model import LinearRegression\n",
    "\n",
    "model = LinearRegression().fit(x, y)"
   ]
  },
  {
   "cell_type": "code",
   "execution_count": 8,
   "id": "85358be6",
   "metadata": {},
   "outputs": [],
   "source": [
    "# map features and its coef\n",
    "var = x.columns.tolist()\n",
    "coef = model.coef_.tolist()"
   ]
  },
  {
   "cell_type": "code",
   "execution_count": 11,
   "id": "e613d90f",
   "metadata": {},
   "outputs": [
    {
     "data": {
      "image/png": "[encoded data removed]",
      "text/plain": [
       "<Figure size 720x360 with 1 Axes>"
      ]
     },
     "metadata": {
      "needs_background": "light"
     },
     "output_type": "display_data"
    }
   ],
   "source": [
    "import matplotlib.pyplot as plt\n",
    "plt.figure(figsize=(10,5))\n",
    "plt.bar(var, coef)\n",
    "plt.ylabel('Effect')\n",
    "plt.xticks(rotation=90)\n",
    "plt.show()"
   ]
  },
  {
   "cell_type": "code",
   "execution_count": 12,
   "id": "2cc10260",
   "metadata": {},
   "outputs": [
    {
     "data": {
      "image/png": "[encoded data removed]",
      "text/plain": [
       "<Figure size 432x288 with 1 Axes>"
      ]
     },
     "metadata": {
      "needs_background": "light"
     },
     "output_type": "display_data"
    }
   ],
   "source": [
    "# We know late delivery is the worst, we want to examine our relative standing\n",
    "df_vld = df['Very Late Delivery']\n",
    "\n",
    "plt.figure()\n",
    "plt.hist(df_vld)\n",
    "plt.show()"
   ]
  },
  {
   "cell_type": "code",
   "execution_count": 13,
   "id": "d57432da",
   "metadata": {},
   "outputs": [
    {
     "name": "stdout",
     "output_type": "stream",
     "text": [
      "5.3134535367545075\n",
      "5.0\n",
      "11.0\n"
     ]
    }
   ],
   "source": [
    "print(np.mean(df_vld))\n",
    "print(np.median(df_vld))\n",
    "print(np.percentile(df_vld, 90))"
   ]
  },
  {
   "cell_type": "code",
   "execution_count": 15,
   "id": "4feab27b",
   "metadata": {},
   "outputs": [],
   "source": [
    "from scipy import stats\n",
    "mynum = df_vld[234]"
   ]
  },
  {
   "cell_type": "code",
   "execution_count": 16,
   "id": "02b3a5f5",
   "metadata": {},
   "outputs": [
    {
     "data": {
      "text/plain": [
       "79.6116504854369"
      ]
     },
     "execution_count": 16,
     "metadata": {},
     "output_type": "execute_result"
    }
   ],
   "source": [
    "stats.percentileofscore(df_vld, mynum)"
   ]
  }
 ],
 "metadata": {
  "kernelspec": {
   "display_name": "Python 3 (ipykernel)",
   "language": "python",
   "name": "python3"
  },
  "language_info": {
   "codemirror_mode": {
    "name": "ipython",
    "version": 3
   },
   "file_extension": ".py",
   "mimetype": "text/x-python",
   "name": "python",
   "nbconvert_exporter": "python",
   "pygments_lexer": "ipython3",
   "version": "3.9.7"
  }
 },
 "nbformat": 4,
 "nbformat_minor": 5
}
