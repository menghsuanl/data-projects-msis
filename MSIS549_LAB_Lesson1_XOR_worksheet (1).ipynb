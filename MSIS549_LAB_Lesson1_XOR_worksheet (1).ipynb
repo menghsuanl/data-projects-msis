{
  "cells": [
    {
      "cell_type": "markdown",
      "metadata": {
        "id": "D3QlsEiYR057",
        "nbgrader": {
          "grade": false,
          "locked": true,
          "solution": false
        }
      },
      "source": [
        "# Neural Network for logical XOR Function"
      ]
    },
    {
      "cell_type": "markdown",
      "metadata": {
        "id": "o_ghiy3uR059",
        "nbgrader": {
          "grade": false,
          "locked": true,
          "solution": false
        }
      },
      "source": [
        "In this lesson you will build a small neural network in Keras and train it to replicate the logical XOR function."
      ]
    },
    {
      "cell_type": "markdown",
      "metadata": {
        "id": "cwhArhP_R05-",
        "nbgrader": {
          "grade": false,
          "locked": true,
          "solution": false
        }
      },
      "source": [
        "## Imports"
      ]
    },
    {
      "cell_type": "code",
      "execution_count": 22,
      "metadata": {
        "id": "ItB6c40Ksxc5",
        "colab": {
          "base_uri": "https://localhost:8080/"
        },
        "outputId": "8495a149-44e6-4598-b880-140060da77ce"
      },
      "outputs": [
        {
          "output_type": "stream",
          "name": "stdout",
          "text": [
            "Colab only includes TensorFlow 2.x; %tensorflow_version has no effect.\n"
          ]
        }
      ],
      "source": [
        "%tensorflow_version 2.8.0\n",
        "%matplotlib inline\n",
        "import warnings\n",
        "warnings.filterwarnings('ignore')\n",
        "\n",
        "import tensorflow as tf\n",
        "tf.autograph.set_verbosity(0)\n",
        "\n",
        "import math\n",
        "import numpy as np\n",
        "import matplotlib.pyplot as plt\n",
        "\n",
        "from keras.models import Model, Sequential\n",
        "from keras.layers import Input, Dense\n",
        "from keras.regularizers import l2\n",
        "from keras.utils.vis_utils import model_to_dot\n",
        "\n",
        "from numpy.random import seed\n",
        "\n",
        "from IPython.display import SVG\n",
        "\n",
        "seed(123)\n",
        "tf.keras.utils.set_random_seed(\n",
        "    123\n",
        ")"
      ]
    },
    {
      "cell_type": "markdown",
      "metadata": {
        "id": "XAhW-JccR06G",
        "nbgrader": {
          "grade": false,
          "locked": true,
          "solution": false
        }
      },
      "source": [
        "## Create dataset for the logical XOR function"
      ]
    },
    {
      "cell_type": "code",
      "execution_count": 23,
      "metadata": {
        "id": "tI_AE4FnR06H",
        "nbgrader": {
          "grade": false,
          "locked": true,
          "solution": false
        }
      },
      "outputs": [],
      "source": [
        "data_X = np.array([[0, 0],\n",
        "                   [1, 0],\n",
        "                   [0, 1],\n",
        "                   [1, 1]])\n",
        "data_y = np.array([0, \n",
        "                   1, \n",
        "                   1, \n",
        "                   0])"
      ]
    },
    {
      "cell_type": "code",
      "source": [
        "data_X.shape"
      ],
      "metadata": {
        "colab": {
          "base_uri": "https://localhost:8080/"
        },
        "id": "dYsVL-OQ3S8v",
        "outputId": "c7ec4a1d-61d1-4cc8-b35b-c32871c89ec2"
      },
      "execution_count": 24,
      "outputs": [
        {
          "output_type": "execute_result",
          "data": {
            "text/plain": [
              "(4, 2)"
            ]
          },
          "metadata": {},
          "execution_count": 24
        }
      ]
    },
    {
      "cell_type": "markdown",
      "metadata": {
        "id": "Ur8-OukhR06K",
        "nbgrader": {
          "grade": false,
          "locked": true,
          "solution": false
        }
      },
      "source": [
        "## Build the neural net model"
      ]
    },
    {
      "cell_type": "code",
      "execution_count": 25,
      "metadata": {
        "id": "9-oc8QZ1R06L",
        "nbgrader": {
          "grade": false,
          "locked": true,
          "solution": false
        }
      },
      "outputs": [],
      "source": [
        "# TODO build model with one dense layer\n",
        "model = Sequential()\n",
        "model.add(Dense(10, input_shape= [2, ], activation='sigmoid')) # 2 units, each data has 2 elements"
      ]
    },
    {
      "cell_type": "code",
      "execution_count": 26,
      "metadata": {
        "id": "YA3nc0wsR06Q",
        "nbgrader": {
          "grade": false,
          "locked": true,
          "solution": false
        },
        "colab": {
          "base_uri": "https://localhost:8080/"
        },
        "outputId": "1d15dd5f-370d-4e6f-8ae7-5be099c21bf0"
      },
      "outputs": [
        {
          "output_type": "stream",
          "name": "stdout",
          "text": [
            "Model: \"sequential_3\"\n",
            "_________________________________________________________________\n",
            " Layer (type)                Output Shape              Param #   \n",
            "=================================================================\n",
            " dense_4 (Dense)             (None, 10)                30        \n",
            "                                                                 \n",
            "=================================================================\n",
            "Total params: 30\n",
            "Trainable params: 30\n",
            "Non-trainable params: 0\n",
            "_________________________________________________________________\n"
          ]
        }
      ],
      "source": [
        "model.summary()\n",
        "# param = 2 feartures per row * 2 nerons + 2 bias"
      ]
    },
    {
      "cell_type": "markdown",
      "metadata": {
        "id": "bnmBwvq9R06W",
        "nbgrader": {
          "grade": false,
          "locked": true,
          "solution": false
        }
      },
      "source": [
        "# Question 1: \n",
        "How many parameters are there in the model so far? Why? Explain in detail what each parameter represents. Answer in the cell below. "
      ]
    },
    {
      "cell_type": "markdown",
      "metadata": {
        "id": "oLKV0_3xR06X"
      },
      "source": [
        "6 parameters. There are 2 input nodes, connected to 2 hidden nodes. This gives 2x2 = 4 weights. This accounts for 4 of the parameters.\n",
        "\n",
        "The other 2 parameters are the bias terms: one bias weight for each of the two hidden nodes."
      ]
    },
    {
      "cell_type": "markdown",
      "metadata": {
        "id": "e3-CNzAjR06Y",
        "nbgrader": {
          "grade": false,
          "locked": true,
          "solution": false
        }
      },
      "source": [
        "## Add another layer"
      ]
    },
    {
      "cell_type": "code",
      "execution_count": 27,
      "metadata": {
        "id": "S5l_yKf6R06Z",
        "nbgrader": {
          "grade": false,
          "locked": true,
          "solution": false
        }
      },
      "outputs": [],
      "source": [
        "# TODO Add another dense layer to the model\n",
        "model.add(Dense(1, activation='sigmoid')) # make output to be (1, )"
      ]
    },
    {
      "cell_type": "code",
      "execution_count": 28,
      "metadata": {
        "id": "mwCj-5F5R06c",
        "nbgrader": {
          "grade": false,
          "locked": true,
          "solution": false
        },
        "colab": {
          "base_uri": "https://localhost:8080/"
        },
        "outputId": "c6c2e401-4401-43c7-815e-858577ec6a4c"
      },
      "outputs": [
        {
          "output_type": "stream",
          "name": "stdout",
          "text": [
            "Model: \"sequential_3\"\n",
            "_________________________________________________________________\n",
            " Layer (type)                Output Shape              Param #   \n",
            "=================================================================\n",
            " dense_4 (Dense)             (None, 10)                30        \n",
            "                                                                 \n",
            " dense_5 (Dense)             (None, 1)                 11        \n",
            "                                                                 \n",
            "=================================================================\n",
            "Total params: 41\n",
            "Trainable params: 41\n",
            "Non-trainable params: 0\n",
            "_________________________________________________________________\n"
          ]
        }
      ],
      "source": [
        "model.summary()"
      ]
    },
    {
      "cell_type": "markdown",
      "metadata": {
        "id": "hvJYpNGuR06h",
        "nbgrader": {
          "grade": false,
          "locked": true,
          "solution": false
        }
      },
      "source": [
        "## Question 2: \n",
        "How many new parameters are there now (e.g., how many were added after question 1)? Why? What does each new parameter represent? "
      ]
    },
    {
      "cell_type": "markdown",
      "metadata": {
        "id": "LpFyyzUcR06i"
      },
      "source": [
        "There are 3 new parameters (for a total of 9). The new layer contains a single node, so each of the 2 previous hidden-layer nodes are connected to this single new node. That gives 2 regular weights. In addition, the new single node has a single bias node, connected to it with 1 weight. Hence there are 3 new weights in the network."
      ]
    },
    {
      "cell_type": "markdown",
      "metadata": {
        "id": "z6VqwNQ2R06k",
        "nbgrader": {
          "grade": false,
          "locked": true,
          "solution": false
        }
      },
      "source": [
        "## Visualize the model"
      ]
    },
    {
      "cell_type": "code",
      "execution_count": 29,
      "metadata": {
        "id": "R2HcVRKvR06m",
        "nbgrader": {
          "grade": false,
          "locked": true,
          "solution": false
        },
        "colab": {
          "base_uri": "https://localhost:8080/",
          "height": 430
        },
        "outputId": "d05fcc62-5d92-464a-ae26-ec3b8233b8d4"
      },
      "outputs": [
        {
          "output_type": "execute_result",
          "data": {
            "text/plain": [
              "<IPython.core.display.SVG object>"
            ],
            "image/svg+xml": "<svg xmlns=\"http://www.w3.org/2000/svg\" xmlns:xlink=\"http://www.w3.org/1999/xlink\" width=\"328pt\" height=\"307pt\" viewBox=\"0.00 0.00 236.00 221.00\">\n<g id=\"graph0\" class=\"graph\" transform=\"scale(0.72 0.72) rotate(0) translate(4 217)\">\n<title>G</title>\n<polygon fill=\"white\" stroke=\"transparent\" points=\"-4,4 -4,-217 232,-217 232,4 -4,4\"/>\n<!-- 139752967705440 -->\n<g id=\"node1\" class=\"node\">\n<title>139752967705440</title>\n<polygon fill=\"none\" stroke=\"black\" points=\"0,-166.5 0,-212.5 228,-212.5 228,-166.5 0,-166.5\"/>\n<text text-anchor=\"middle\" x=\"47.5\" y=\"-197.3\" font-family=\"Times,serif\" font-size=\"14.00\">dense_4_input</text>\n<polyline fill=\"none\" stroke=\"black\" points=\"0,-189.5 95,-189.5 \"/>\n<text text-anchor=\"middle\" x=\"47.5\" y=\"-174.3\" font-family=\"Times,serif\" font-size=\"14.00\">InputLayer</text>\n<polyline fill=\"none\" stroke=\"black\" points=\"95,-166.5 95,-212.5 \"/>\n<text text-anchor=\"middle\" x=\"122.5\" y=\"-197.3\" font-family=\"Times,serif\" font-size=\"14.00\">input:</text>\n<polyline fill=\"none\" stroke=\"black\" points=\"95,-189.5 150,-189.5 \"/>\n<text text-anchor=\"middle\" x=\"122.5\" y=\"-174.3\" font-family=\"Times,serif\" font-size=\"14.00\">output:</text>\n<polyline fill=\"none\" stroke=\"black\" points=\"150,-166.5 150,-212.5 \"/>\n<text text-anchor=\"middle\" x=\"189\" y=\"-197.3\" font-family=\"Times,serif\" font-size=\"14.00\">[(None, 2)]</text>\n<polyline fill=\"none\" stroke=\"black\" points=\"150,-189.5 228,-189.5 \"/>\n<text text-anchor=\"middle\" x=\"189\" y=\"-174.3\" font-family=\"Times,serif\" font-size=\"14.00\">[(None, 2)]</text>\n</g>\n<!-- 139752938987120 -->\n<g id=\"node2\" class=\"node\">\n<title>139752938987120</title>\n<polygon fill=\"none\" stroke=\"black\" points=\"18,-83.5 18,-129.5 210,-129.5 210,-83.5 18,-83.5\"/>\n<text text-anchor=\"middle\" x=\"48.5\" y=\"-114.3\" font-family=\"Times,serif\" font-size=\"14.00\">dense_4</text>\n<polyline fill=\"none\" stroke=\"black\" points=\"18,-106.5 79,-106.5 \"/>\n<text text-anchor=\"middle\" x=\"48.5\" y=\"-91.3\" font-family=\"Times,serif\" font-size=\"14.00\">Dense</text>\n<polyline fill=\"none\" stroke=\"black\" points=\"79,-83.5 79,-129.5 \"/>\n<text text-anchor=\"middle\" x=\"106.5\" y=\"-114.3\" font-family=\"Times,serif\" font-size=\"14.00\">input:</text>\n<polyline fill=\"none\" stroke=\"black\" points=\"79,-106.5 134,-106.5 \"/>\n<text text-anchor=\"middle\" x=\"106.5\" y=\"-91.3\" font-family=\"Times,serif\" font-size=\"14.00\">output:</text>\n<polyline fill=\"none\" stroke=\"black\" points=\"134,-83.5 134,-129.5 \"/>\n<text text-anchor=\"middle\" x=\"172\" y=\"-114.3\" font-family=\"Times,serif\" font-size=\"14.00\">(None, 2)</text>\n<polyline fill=\"none\" stroke=\"black\" points=\"134,-106.5 210,-106.5 \"/>\n<text text-anchor=\"middle\" x=\"172\" y=\"-91.3\" font-family=\"Times,serif\" font-size=\"14.00\">(None, 10)</text>\n</g>\n<!-- 139752967705440&#45;&gt;139752938987120 -->\n<g id=\"edge1\" class=\"edge\">\n<title>139752967705440-&gt;139752938987120</title>\n<path fill=\"none\" stroke=\"black\" d=\"M114,-166.37C114,-158.15 114,-148.66 114,-139.73\"/>\n<polygon fill=\"black\" stroke=\"black\" points=\"117.5,-139.61 114,-129.61 110.5,-139.61 117.5,-139.61\"/>\n</g>\n<!-- 139752721685264 -->\n<g id=\"node3\" class=\"node\">\n<title>139752721685264</title>\n<polygon fill=\"none\" stroke=\"black\" points=\"18,-0.5 18,-46.5 210,-46.5 210,-0.5 18,-0.5\"/>\n<text text-anchor=\"middle\" x=\"48.5\" y=\"-31.3\" font-family=\"Times,serif\" font-size=\"14.00\">dense_5</text>\n<polyline fill=\"none\" stroke=\"black\" points=\"18,-23.5 79,-23.5 \"/>\n<text text-anchor=\"middle\" x=\"48.5\" y=\"-8.3\" font-family=\"Times,serif\" font-size=\"14.00\">Dense</text>\n<polyline fill=\"none\" stroke=\"black\" points=\"79,-0.5 79,-46.5 \"/>\n<text text-anchor=\"middle\" x=\"106.5\" y=\"-31.3\" font-family=\"Times,serif\" font-size=\"14.00\">input:</text>\n<polyline fill=\"none\" stroke=\"black\" points=\"79,-23.5 134,-23.5 \"/>\n<text text-anchor=\"middle\" x=\"106.5\" y=\"-8.3\" font-family=\"Times,serif\" font-size=\"14.00\">output:</text>\n<polyline fill=\"none\" stroke=\"black\" points=\"134,-0.5 134,-46.5 \"/>\n<text text-anchor=\"middle\" x=\"172\" y=\"-31.3\" font-family=\"Times,serif\" font-size=\"14.00\">(None, 10)</text>\n<polyline fill=\"none\" stroke=\"black\" points=\"134,-23.5 210,-23.5 \"/>\n<text text-anchor=\"middle\" x=\"172\" y=\"-8.3\" font-family=\"Times,serif\" font-size=\"14.00\">(None, 1)</text>\n</g>\n<!-- 139752938987120&#45;&gt;139752721685264 -->\n<g id=\"edge2\" class=\"edge\">\n<title>139752938987120-&gt;139752721685264</title>\n<path fill=\"none\" stroke=\"black\" d=\"M114,-83.37C114,-75.15 114,-65.66 114,-56.73\"/>\n<polygon fill=\"black\" stroke=\"black\" points=\"117.5,-56.61 114,-46.61 110.5,-56.61 117.5,-56.61\"/>\n</g>\n</g>\n</svg>"
          },
          "metadata": {},
          "execution_count": 29
        }
      ],
      "source": [
        "SVG(model_to_dot(model, show_shapes=True, dpi=100).create(prog='dot', format='svg'))"
      ]
    },
    {
      "cell_type": "markdown",
      "metadata": {
        "id": "FJcntixsR06r",
        "nbgrader": {
          "grade": false,
          "locked": true,
          "solution": false
        }
      },
      "source": [
        "## Build the model"
      ]
    },
    {
      "cell_type": "code",
      "execution_count": 30,
      "metadata": {
        "id": "6DPMHm__R06r",
        "nbgrader": {
          "grade": false,
          "locked": true,
          "solution": false
        }
      },
      "outputs": [],
      "source": [
        "# compile the model using adam as the optmizer and binary_crossentropy as the loss. \n",
        "# checkout compile API: https://keras.io/models/sequential/#compile\n",
        "\n",
        "# TODO\n",
        "model.compile(optimizer = 'adam', loss='binary_crossentropy', metrics=['accuracy'])"
      ]
    },
    {
      "cell_type": "markdown",
      "metadata": {
        "id": "3voJQXlpR06w",
        "nbgrader": {
          "grade": false,
          "locked": true,
          "solution": false
        }
      },
      "source": [
        "### Modify the steps per epoch, number of epochs, etc, and train the model. The goal should be closed to 100% accuracy for the XOR data."
      ]
    },
    {
      "cell_type": "code",
      "execution_count": 31,
      "metadata": {
        "id": "FX8PQhoOR06x",
        "colab": {
          "base_uri": "https://localhost:8080/"
        },
        "outputId": "0cece4ec-e55c-4e11-f8bf-2b582bbc2adb"
      },
      "outputs": [
        {
          "output_type": "execute_result",
          "data": {
            "text/plain": [
              "(array([[0, 0],\n",
              "        [1, 0],\n",
              "        [0, 1],\n",
              "        [1, 1]]),\n",
              " array([0, 1, 1, 0]))"
            ]
          },
          "metadata": {},
          "execution_count": 31
        }
      ],
      "source": [
        "# fit the model using 500 steps per epoch and 10 epochs\n",
        "# checkout fit API: https://keras.io/models/sequential/#fit\n",
        "\n",
        "# TODO\n",
        "train_dataset = tf.data.Dataset.from_tensor_slices((data_X, data_y)).repeat().batch(4)\n",
        "train_dataset.as_numpy_iterator().next()"
      ]
    },
    {
      "cell_type": "code",
      "source": [
        "model.fit(train_dataset, steps_per_epoch=500, epochs=20) "
      ],
      "metadata": {
        "colab": {
          "base_uri": "https://localhost:8080/"
        },
        "id": "_3eMhrWz6Ncz",
        "outputId": "c80c65c7-5c0a-4c3d-daee-97f31c8586d6"
      },
      "execution_count": 32,
      "outputs": [
        {
          "output_type": "stream",
          "name": "stdout",
          "text": [
            "Epoch 1/20\n",
            "500/500 [==============================] - 1s 2ms/step - loss: 0.6863 - accuracy: 0.6300\n",
            "Epoch 2/20\n",
            "500/500 [==============================] - 1s 2ms/step - loss: 0.5881 - accuracy: 0.9550\n",
            "Epoch 3/20\n",
            "500/500 [==============================] - 1s 2ms/step - loss: 0.3546 - accuracy: 1.0000\n",
            "Epoch 4/20\n",
            "500/500 [==============================] - 1s 2ms/step - loss: 0.1712 - accuracy: 1.0000\n",
            "Epoch 5/20\n",
            "500/500 [==============================] - 1s 2ms/step - loss: 0.0823 - accuracy: 1.0000\n",
            "Epoch 6/20\n",
            "500/500 [==============================] - 1s 2ms/step - loss: 0.0442 - accuracy: 1.0000\n",
            "Epoch 7/20\n",
            "500/500 [==============================] - 1s 2ms/step - loss: 0.0262 - accuracy: 1.0000\n",
            "Epoch 8/20\n",
            "500/500 [==============================] - 1s 2ms/step - loss: 0.0167 - accuracy: 1.0000\n",
            "Epoch 9/20\n",
            "500/500 [==============================] - 1s 2ms/step - loss: 0.0111 - accuracy: 1.0000\n",
            "Epoch 10/20\n",
            "500/500 [==============================] - 1s 2ms/step - loss: 0.0077 - accuracy: 1.0000\n",
            "Epoch 11/20\n",
            "500/500 [==============================] - 1s 2ms/step - loss: 0.0055 - accuracy: 1.0000\n",
            "Epoch 12/20\n",
            "500/500 [==============================] - 1s 2ms/step - loss: 0.0040 - accuracy: 1.0000\n",
            "Epoch 13/20\n",
            "500/500 [==============================] - 1s 2ms/step - loss: 0.0029 - accuracy: 1.0000\n",
            "Epoch 14/20\n",
            "500/500 [==============================] - 1s 2ms/step - loss: 0.0022 - accuracy: 1.0000\n",
            "Epoch 15/20\n",
            "500/500 [==============================] - 1s 2ms/step - loss: 0.0016 - accuracy: 1.0000\n",
            "Epoch 16/20\n",
            "500/500 [==============================] - 1s 2ms/step - loss: 0.0012 - accuracy: 1.0000\n",
            "Epoch 17/20\n",
            "500/500 [==============================] - 1s 2ms/step - loss: 9.2429e-04 - accuracy: 1.0000\n",
            "Epoch 18/20\n",
            "500/500 [==============================] - 1s 2ms/step - loss: 7.0488e-04 - accuracy: 1.0000\n",
            "Epoch 19/20\n",
            "500/500 [==============================] - 1s 2ms/step - loss: 5.3966e-04 - accuracy: 1.0000\n",
            "Epoch 20/20\n",
            "500/500 [==============================] - 1s 2ms/step - loss: 4.1450e-04 - accuracy: 1.0000\n"
          ]
        },
        {
          "output_type": "execute_result",
          "data": {
            "text/plain": [
              "<keras.callbacks.History at 0x7f1b540e7a60>"
            ]
          },
          "metadata": {},
          "execution_count": 32
        }
      ]
    },
    {
      "cell_type": "markdown",
      "metadata": {
        "id": "UTEsca_2R063",
        "nbgrader": {
          "grade": false,
          "locked": true,
          "solution": false
        }
      },
      "source": [
        "# Run prediction using trained model."
      ]
    },
    {
      "cell_type": "code",
      "execution_count": 37,
      "metadata": {
        "id": "pkQEQfisR064",
        "nbgrader": {
          "grade": false,
          "locked": true,
          "solution": false
        },
        "colab": {
          "base_uri": "https://localhost:8080/"
        },
        "outputId": "13d503de-67fd-4cdf-ab59-4b40094e9ba3"
      },
      "outputs": [
        {
          "output_type": "stream",
          "name": "stdout",
          "text": [
            "1/1 [==============================] - 0s 497ms/step\n"
          ]
        },
        {
          "output_type": "execute_result",
          "data": {
            "text/plain": [
              "array([[4.6193114e-04],\n",
              "       [9.9974096e-01],\n",
              "       [9.9949813e-01],\n",
              "       [2.2683089e-04]], dtype=float32)"
            ]
          },
          "metadata": {},
          "execution_count": 37
        }
      ],
      "source": [
        "# make predictions on the data fed into the model.\n",
        "# checkout predict API: https://keras.io/models/sequential/#predict\n",
        "\n",
        "# TODO\n",
        "model.predict(data_X)"
      ]
    },
    {
      "cell_type": "markdown",
      "metadata": {
        "id": "_uWEq9owR069",
        "nbgrader": {
          "grade": false,
          "locked": true,
          "solution": false
        }
      },
      "source": [
        "# Question 3:\n",
        "Explain the results of the predict() call above. How well did the trained model do on this problem?"
      ]
    },
    {
      "cell_type": "markdown",
      "metadata": {
        "id": "e-GgvoVYR06-"
      },
      "source": [
        "The model is close to the desire results given in data_y (see following cell). The results are not exact because we have a sigmoid activation and will never output exactly 1 or 0. But if we consider a threshold of 0.5, setting the output to 1 if above threshold and 0 otherwise, then indeed the output is exactly [0,1,1,0] for the 4 inputs, as expected. Thus the network has solved the XOR problem."
      ]
    },
    {
      "cell_type": "code",
      "execution_count": 34,
      "metadata": {
        "colab": {
          "base_uri": "https://localhost:8080/"
        },
        "id": "6tfCKNMCR07A",
        "outputId": "e14566b9-9003-4783-b3ea-b8b1a9c33ae1"
      },
      "outputs": [
        {
          "output_type": "execute_result",
          "data": {
            "text/plain": [
              "array([0, 1, 1, 0])"
            ]
          },
          "metadata": {},
          "execution_count": 34
        }
      ],
      "source": [
        "data_y"
      ]
    },
    {
      "cell_type": "markdown",
      "metadata": {
        "id": "bo1huq3fR07J",
        "nbgrader": {
          "grade": false,
          "locked": true,
          "solution": false
        }
      },
      "source": [
        "# Question 4:\n",
        "Print the weights of both layers of the trained network below. HINT: model.layers gives a list of layers. layer.get_weights() returns layer weights."
      ]
    },
    {
      "cell_type": "code",
      "execution_count": 39,
      "metadata": {
        "id": "ZZY-JNqVR07K",
        "colab": {
          "base_uri": "https://localhost:8080/"
        },
        "outputId": "58425e55-763e-4d79-fedc-146ed9fba954"
      },
      "outputs": [
        {
          "output_type": "execute_result",
          "data": {
            "text/plain": [
              "[array([[ 4.410806 ,  3.793773 ,  3.6604424,  4.4671035, -4.5170693,\n",
              "          3.8799808,  4.298926 , -4.091093 ,  4.4440475, -4.8780932],\n",
              "        [ 4.762292 ,  3.0058024,  2.80454  , -4.7771015,  4.723501 ,\n",
              "          3.0255823,  4.808515 ,  4.20785  , -4.294473 ,  4.919557 ]],\n",
              "       dtype=float32),\n",
              " array([-1.9894719, -5.472498 , -5.2012343,  2.592556 , -2.5460126,\n",
              "        -5.5040474, -1.979814 ,  2.5900664, -2.7915435,  2.9377851],\n",
              "       dtype=float32)]"
            ]
          },
          "metadata": {},
          "execution_count": 39
        }
      ],
      "source": [
        "# print the weights of the first layer \n",
        "# TODO\n",
        "model.layers[0].get_weights()"
      ]
    },
    {
      "cell_type": "code",
      "execution_count": 40,
      "metadata": {
        "id": "2QMMDvL-R07Y",
        "colab": {
          "base_uri": "https://localhost:8080/"
        },
        "outputId": "3ecabb35-f659-447a-b221-203adef02a88"
      },
      "outputs": [
        {
          "output_type": "execute_result",
          "data": {
            "text/plain": [
              "[array([[ 5.520595 ],\n",
              "        [-5.157381 ],\n",
              "        [-4.3029914],\n",
              "        [-4.7487383],\n",
              "        [ 5.0098104],\n",
              "        [-3.8407085],\n",
              "        [ 5.358925 ],\n",
              "        [-3.7093778],\n",
              "        [ 4.088078 ],\n",
              "        [-5.05074  ]], dtype=float32),\n",
              " array([3.1315122], dtype=float32)]"
            ]
          },
          "metadata": {},
          "execution_count": 40
        }
      ],
      "source": [
        "# print the weights of the second layer \n",
        "# TODO\n",
        "model.layers[1].get_weights()"
      ]
    }
  ],
  "metadata": {
    "colab": {
      "provenance": []
    },
    "kernelspec": {
      "display_name": "Python 3",
      "language": "python",
      "name": "python3"
    },
    "language_info": {
      "codemirror_mode": {
        "name": "ipython",
        "version": 3
      },
      "file_extension": ".py",
      "mimetype": "text/x-python",
      "name": "python",
      "nbconvert_exporter": "python",
      "pygments_lexer": "ipython3",
      "version": "3.8.10"
    }
  },
  "nbformat": 4,
  "nbformat_minor": 0
}